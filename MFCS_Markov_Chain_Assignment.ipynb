{
 "cells": [
  {
   "cell_type": "code",
   "execution_count": 1,
   "metadata": {
    "collapsed": false,
    "deletable": true,
    "editable": true
   },
   "outputs": [],
   "source": [
    "import pandas as pd\n",
    "import numpy as np\n",
    "from collections import Counter"
   ]
  },
  {
   "cell_type": "code",
   "execution_count": 2,
   "metadata": {
    "collapsed": false,
    "deletable": true,
    "editable": true
   },
   "outputs": [
    {
     "data": {
      "text/html": [
       "<div>\n",
       "<style>\n",
       "    .dataframe thead tr:only-child th {\n",
       "        text-align: right;\n",
       "    }\n",
       "\n",
       "    .dataframe thead th {\n",
       "        text-align: left;\n",
       "    }\n",
       "\n",
       "    .dataframe tbody tr th {\n",
       "        vertical-align: top;\n",
       "    }\n",
       "</style>\n",
       "<table border=\"1\" class=\"dataframe\">\n",
       "  <thead>\n",
       "    <tr style=\"text-align: right;\">\n",
       "      <th></th>\n",
       "      <th>name</th>\n",
       "      <th>buys</th>\n",
       "    </tr>\n",
       "  </thead>\n",
       "  <tbody>\n",
       "    <tr>\n",
       "      <th>0</th>\n",
       "      <td>Abhishek</td>\n",
       "      <td>C</td>\n",
       "    </tr>\n",
       "    <tr>\n",
       "      <th>1</th>\n",
       "      <td>Abhishek</td>\n",
       "      <td>C</td>\n",
       "    </tr>\n",
       "    <tr>\n",
       "      <th>2</th>\n",
       "      <td>Abhishek</td>\n",
       "      <td>P</td>\n",
       "    </tr>\n",
       "    <tr>\n",
       "      <th>3</th>\n",
       "      <td>Abhishek</td>\n",
       "      <td>C</td>\n",
       "    </tr>\n",
       "    <tr>\n",
       "      <th>4</th>\n",
       "      <td>Abhishek</td>\n",
       "      <td>P</td>\n",
       "    </tr>\n",
       "  </tbody>\n",
       "</table>\n",
       "</div>"
      ],
      "text/plain": [
       "       name buys\n",
       "0  Abhishek    C\n",
       "1  Abhishek    C\n",
       "2  Abhishek    P\n",
       "3  Abhishek    C\n",
       "4  Abhishek    P"
      ]
     },
     "execution_count": 2,
     "metadata": {},
     "output_type": "execute_result"
    }
   ],
   "source": [
    "df = pd.read_csv(\"C:\\\\Users\\\\Abhishek Pawar\\\\Desktop\\\\Markov_Chain_Training.csv\")\n",
    "df.head()"
   ]
  },
  {
   "cell_type": "code",
   "execution_count": 3,
   "metadata": {
    "collapsed": false,
    "deletable": true,
    "editable": true
   },
   "outputs": [],
   "source": [
    "count = np.unique(df['buys'],return_counts=True)\n",
    "original_coke_count = count[1][0]\n",
    "original_pepsi_count = count[1][1]"
   ]
  },
  {
   "cell_type": "code",
   "execution_count": 4,
   "metadata": {
    "collapsed": false,
    "deletable": true,
    "editable": true
   },
   "outputs": [],
   "source": [
    "initial_probab_coke = original_coke_count / len(df)\n",
    "initial_probab_pepsi = original_pepsi_count / len(df)"
   ]
  },
  {
   "cell_type": "code",
   "execution_count": 5,
   "metadata": {
    "collapsed": false,
    "deletable": true,
    "editable": true
   },
   "outputs": [],
   "source": [
    "list_of_buys_coloumn = list(df['buys'])"
   ]
  },
  {
   "cell_type": "code",
   "execution_count": 6,
   "metadata": {
    "collapsed": false,
    "deletable": true,
    "editable": true
   },
   "outputs": [],
   "source": [
    "self_transition_coke = 0\n",
    "self_transition_pepsi = 0\n",
    "\n",
    "for x in range(0,len(list_of_buys_coloumn)-1):\n",
    "    if list_of_buys_coloumn[x] == \"C\" and list_of_buys_coloumn[x+1] == \"C\":\n",
    "        self_transition_coke += 1\n",
    "    elif list_of_buys_coloumn[x] == \"P\" and list_of_buys_coloumn[x+1] == \"P\":\n",
    "        self_transition_pepsi += 1\n",
    "        \n",
    "self_transition_coke = self_transition_coke / len(df)\n",
    "self_transition_pepsi = self_transition_pepsi / len(df)"
   ]
  },
  {
   "cell_type": "code",
   "execution_count": 7,
   "metadata": {
    "collapsed": true,
    "deletable": true,
    "editable": true
   },
   "outputs": [],
   "source": [
    "transition_from_coke_to_pepsi = 0\n",
    "transition_from_pepsi_to_coke = 0\n",
    "\n",
    "for x in range(0,len(list_of_buys_coloumn)-1):\n",
    "    if list_of_buys_coloumn[x] == \"C\" and list_of_buys_coloumn[x+1] == \"P\":\n",
    "        transition_from_coke_to_pepsi += 1\n",
    "    elif list_of_buys_coloumn[x] == \"P\" and list_of_buys_coloumn[x+1] == \"C\":\n",
    "        transition_from_pepsi_to_coke += 1\n",
    "        \n",
    "transition_from_coke_to_pepsi = transition_from_coke_to_pepsi / len(df)\n",
    "transition_from_pepsi_to_coke = transition_from_pepsi_to_coke / len(df)"
   ]
  },
  {
   "cell_type": "code",
   "execution_count": 8,
   "metadata": {
    "collapsed": false,
    "deletable": true,
    "editable": true
   },
   "outputs": [
    {
     "data": {
      "text/plain": [
       "array([ 0.57142857,  0.42857143])"
      ]
     },
     "execution_count": 8,
     "metadata": {},
     "output_type": "execute_result"
    }
   ],
   "source": [
    "initial_probab_matrix = np.array([initial_probab_coke,initial_probab_pepsi])\n",
    "initial_probab_matrix"
   ]
  },
  {
   "cell_type": "code",
   "execution_count": 9,
   "metadata": {
    "collapsed": false,
    "deletable": true,
    "editable": true
   },
   "outputs": [
    {
     "data": {
      "text/plain": [
       "array([[ 0.14285714,  0.35714286],\n",
       "       [ 0.35714286,  0.07142857]])"
      ]
     },
     "execution_count": 9,
     "metadata": {},
     "output_type": "execute_result"
    }
   ],
   "source": [
    "transition_matrix = np.array([[self_transition_coke,transition_from_coke_to_pepsi],[transition_from_pepsi_to_coke,self_transition_pepsi]])\n",
    "transition_matrix"
   ]
  },
  {
   "cell_type": "code",
   "execution_count": 10,
   "metadata": {
    "collapsed": false,
    "deletable": true,
    "editable": true
   },
   "outputs": [
    {
     "name": "stdout",
     "output_type": "stream",
     "text": [
      "Prediction # 1\n",
      "[ 0.23469388  0.23469388]\n",
      "Prediction # 2\n",
      "[ 0.11734694  0.10058309]\n"
     ]
    }
   ],
   "source": [
    "for i in range(1,3):\n",
    "    print(\"Prediction #\",i)\n",
    "    temp_matrix = np.dot(initial_probab_matrix,transition_matrix)\n",
    "    print(temp_matrix)\n",
    "    initial_probab_matrix = temp_matrix"
   ]
  },
  {
   "cell_type": "code",
   "execution_count": null,
   "metadata": {
    "collapsed": true,
    "deletable": true,
    "editable": true
   },
   "outputs": [],
   "source": []
  }
 ],
 "metadata": {
  "kernelspec": {
   "display_name": "Python 3",
   "language": "python",
   "name": "python3"
  },
  "language_info": {
   "codemirror_mode": {
    "name": "ipython",
    "version": 3
   },
   "file_extension": ".py",
   "mimetype": "text/x-python",
   "name": "python",
   "nbconvert_exporter": "python",
   "pygments_lexer": "ipython3",
   "version": "3.5.2"
  }
 },
 "nbformat": 4,
 "nbformat_minor": 2
}
