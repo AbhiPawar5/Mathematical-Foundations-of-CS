{
 "cells": [
  {
   "cell_type": "code",
   "execution_count": 1,
   "metadata": {
    "collapsed": true,
    "deletable": true,
    "editable": true
   },
   "outputs": [],
   "source": [
    "import pandas as pd\n",
    "import numpy as np"
   ]
  },
  {
   "cell_type": "code",
   "execution_count": 2,
   "metadata": {
    "collapsed": false,
    "deletable": true,
    "editable": true
   },
   "outputs": [],
   "source": [
    "df = pd.read_csv(\"PCA_Training.csv\")\n",
    "df.head()\n",
    "dataset_size = df.size"
   ]
  },
  {
   "cell_type": "code",
   "execution_count": 3,
   "metadata": {
    "collapsed": false,
    "deletable": true,
    "editable": true
   },
   "outputs": [],
   "source": [
    "mean_X = np.mean(df[\"X\"])\n",
    "mean_Y = np.mean(df[\"Y\"])"
   ]
  },
  {
   "cell_type": "code",
   "execution_count": 4,
   "metadata": {
    "collapsed": false,
    "deletable": true,
    "editable": true
   },
   "outputs": [
    {
     "data": {
      "text/plain": [
       "array([[ 0.69,  0.49],\n",
       "       [-1.31, -1.21],\n",
       "       [ 0.39,  0.99],\n",
       "       [ 0.09,  0.29],\n",
       "       [ 1.29,  1.09],\n",
       "       [ 0.49,  0.79],\n",
       "       [ 0.19, -0.31],\n",
       "       [-0.81, -0.81],\n",
       "       [-0.31, -0.31],\n",
       "       [-0.71, -1.01]])"
      ]
     },
     "execution_count": 4,
     "metadata": {},
     "output_type": "execute_result"
    }
   ],
   "source": [
    "zero_mean_x = df[\"X\"]-mean_X\n",
    "zero_mean_y = df[\"Y\"]-mean_Y\n",
    "zero_mean_array = np.column_stack((zero_mean_x,zero_mean_y))\n",
    "zero_mean_array"
   ]
  },
  {
   "cell_type": "code",
   "execution_count": 5,
   "metadata": {
    "collapsed": false,
    "deletable": true,
    "editable": true
   },
   "outputs": [
    {
     "data": {
      "text/plain": [
       "array([[ 0.,  0.],\n",
       "       [ 0.,  0.]])"
      ]
     },
     "execution_count": 5,
     "metadata": {},
     "output_type": "execute_result"
    }
   ],
   "source": [
    "covariance_matrix = np.zeros((2,2))\n",
    "covariance_matrix"
   ]
  },
  {
   "cell_type": "code",
   "execution_count": 24,
   "metadata": {
    "collapsed": false,
    "deletable": true,
    "editable": true
   },
   "outputs": [
    {
     "data": {
      "text/plain": [
       "array([[ 0.61655556,  0.61544444],\n",
       "       [ 0.61544444,  0.71655556]])"
      ]
     },
     "execution_count": 24,
     "metadata": {},
     "output_type": "execute_result"
    }
   ],
   "source": [
    "covariance_matrix = np.cov((df[\"X\"],df[\"Y\"]))\n",
    "covariance_matrix"
   ]
  },
  {
   "cell_type": "code",
   "execution_count": 25,
   "metadata": {
    "collapsed": false,
    "deletable": true,
    "editable": true
   },
   "outputs": [
    {
     "name": "stdout",
     "output_type": "stream",
     "text": [
      "Eigenvectors \n",
      "[[-0.73517866 -0.6778734 ]\n",
      " [ 0.6778734  -0.73517866]]\n",
      "\n",
      "Eigenvalues \n",
      "[ 0.0490834   1.28402771]\n"
     ]
    }
   ],
   "source": [
    "eig_vals, eig_vecs = np.linalg.eig(covariance_matrix)\n",
    "\n",
    "print('Eigenvectors \\n%s' %eig_vecs)\n",
    "print('\\nEigenvalues \\n%s' %eig_vals)"
   ]
  },
  {
   "cell_type": "code",
   "execution_count": 26,
   "metadata": {
    "collapsed": false
   },
   "outputs": [
    {
     "data": {
      "text/plain": [
       "array([[-0.73517866,  0.6778734 ],\n",
       "       [-0.6778734 , -0.73517866]])"
      ]
     },
     "execution_count": 26,
     "metadata": {},
     "output_type": "execute_result"
    }
   ],
   "source": [
    "transpose_eign_vector = eig_vecs.transpose()\n",
    "transpose_eign_vector"
   ]
  },
  {
   "cell_type": "code",
   "execution_count": 27,
   "metadata": {
    "collapsed": false,
    "deletable": true,
    "editable": true
   },
   "outputs": [
    {
     "data": {
      "text/plain": [
       "array([[ 0.69, -1.31,  0.39,  0.09,  1.29,  0.49,  0.19, -0.81, -0.31,\n",
       "        -0.71],\n",
       "       [ 0.49, -1.21,  0.99,  0.29,  1.09,  0.79, -0.31, -0.81, -0.31,\n",
       "        -1.01]])"
      ]
     },
     "execution_count": 27,
     "metadata": {},
     "output_type": "execute_result"
    }
   ],
   "source": [
    "transpose_zero_mean_array = zero_mean_array[:].transpose()\n",
    "transpose_zero_mean_array"
   ]
  },
  {
   "cell_type": "code",
   "execution_count": 28,
   "metadata": {
    "collapsed": false,
    "deletable": true,
    "editable": true
   },
   "outputs": [],
   "source": [
    "final_data = np.dot(transpose_eign_vector,transpose_zero_mean_array)"
   ]
  },
  {
   "cell_type": "code",
   "execution_count": 29,
   "metadata": {
    "collapsed": false,
    "deletable": true,
    "editable": true
   },
   "outputs": [
    {
     "data": {
      "text/plain": [
       "array([[-0.17511531,  0.14285723,  0.38437499,  0.13041721, -0.20949846,\n",
       "         0.17528244, -0.3498247 ,  0.04641726,  0.01776463, -0.16267529],\n",
       "       [-0.82797019,  1.77758033, -0.99219749, -0.27421042, -1.67580142,\n",
       "        -0.9129491 ,  0.09910944,  1.14457216,  0.43804614,  1.22382056]])"
      ]
     },
     "execution_count": 29,
     "metadata": {},
     "output_type": "execute_result"
    }
   ],
   "source": [
    "final_data"
   ]
  },
  {
   "cell_type": "code",
   "execution_count": 36,
   "metadata": {
    "collapsed": false
   },
   "outputs": [
    {
     "data": {
      "text/plain": [
       "array([[-0.82797019, -0.17511531],\n",
       "       [ 1.77758033,  0.14285723],\n",
       "       [-0.99219749,  0.38437499],\n",
       "       [-0.27421042,  0.13041721],\n",
       "       [-1.67580142, -0.20949846],\n",
       "       [-0.9129491 ,  0.17528244],\n",
       "       [ 0.09910944, -0.3498247 ],\n",
       "       [ 1.14457216,  0.04641726],\n",
       "       [ 0.43804614,  0.01776463],\n",
       "       [ 1.22382056, -0.16267529]])"
      ]
     },
     "execution_count": 36,
     "metadata": {},
     "output_type": "execute_result"
    }
   ],
   "source": [
    "new_final_data = final_data.transpose()\n",
    "new_final_data = new_final_data[:,[1,0]]\n",
    "new_final_data"
   ]
  },
  {
   "cell_type": "code",
   "execution_count": null,
   "metadata": {
    "collapsed": true,
    "deletable": true,
    "editable": true
   },
   "outputs": [],
   "source": []
  }
 ],
 "metadata": {
  "kernelspec": {
   "display_name": "Python 3",
   "language": "python",
   "name": "python3"
  },
  "language_info": {
   "codemirror_mode": {
    "name": "ipython",
    "version": 3
   },
   "file_extension": ".py",
   "mimetype": "text/x-python",
   "name": "python",
   "nbconvert_exporter": "python",
   "pygments_lexer": "ipython3",
   "version": "3.5.2"
  }
 },
 "nbformat": 4,
 "nbformat_minor": 2
}
