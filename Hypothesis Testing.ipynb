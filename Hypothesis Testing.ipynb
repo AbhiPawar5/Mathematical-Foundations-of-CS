{
 "cells": [
  {
   "cell_type": "code",
   "execution_count": 1,
   "metadata": {
    "collapsed": true,
    "deletable": true,
    "editable": true
   },
   "outputs": [],
   "source": [
    "import math\n",
    "import scipy.stats as st"
   ]
  },
  {
   "cell_type": "code",
   "execution_count": 2,
   "metadata": {
    "collapsed": true,
    "deletable": true,
    "editable": true
   },
   "outputs": [],
   "source": [
    "def decide_hypothesis(p,alpha):\n",
    "    if p < alpha:\n",
    "        print(\"\\n\\nReject NULL Hypothesis.\")\n",
    "    else:\n",
    "        print(\"\\n\\nAccept NULL Hypothesis.\")"
   ]
  },
  {
   "cell_type": "code",
   "execution_count": 3,
   "metadata": {
    "collapsed": true,
    "deletable": true,
    "editable": true
   },
   "outputs": [],
   "source": [
    "def perform_Z_Test(mean,x,s,n):\n",
    "    z = (mean - x) / (s / math.sqrt(n))\n",
    "    p = st.norm.cdf(z)\n",
    "    return p"
   ]
  },
  {
   "cell_type": "code",
   "execution_count": 4,
   "metadata": {
    "collapsed": true,
    "deletable": true,
    "editable": true
   },
   "outputs": [],
   "source": [
    "def perform_T_Test(xbar,mu,s,n,alpha):\n",
    "    t = z = (xbar - mu) / (s / math.sqrt(n))\n",
    "    df = n - 1\n",
    "    p = st.t.ppf(alpha,df)\n",
    "    return p"
   ]
  },
  {
   "cell_type": "code",
   "execution_count": 23,
   "metadata": {
    "collapsed": false,
    "deletable": true,
    "editable": true
   },
   "outputs": [],
   "source": [
    "def perform_Chi_Square_Test(n,s,sigma,alpha,type_tail):\n",
    "    # type_tail is TRUE , if it's right tail\n",
    "    x2 = (n-1) * (s) / sigma\n",
    "    \n",
    "    if type_tail:\n",
    "        p = st.chi2.isf(q=alpha,df=n-1)\n",
    "        print(p)\n",
    "    else:\n",
    "        p = st.chi2.isf(q=1 - alpha,df=n-1)\n",
    "        print(p)\n",
    "        \n",
    "    if x2 < p:\n",
    "        print(\"Accept NULL Hypothesis\")\n",
    "        return\n",
    "    \n",
    "    if x2 > p:\n",
    "        print(\"Reject NULL Hypothesis\")\n",
    "        return"
   ]
  },
  {
   "cell_type": "code",
   "execution_count": 25,
   "metadata": {
    "collapsed": false,
    "deletable": true,
    "editable": true
   },
   "outputs": [
    {
     "name": "stdout",
     "output_type": "stream",
     "text": [
      "1. Z-Test\n",
      "2. T-Test\n",
      "3. Chi Square-Test\n",
      "\n",
      "Enter Your choice : 3\n",
      "Enter random sample : 40\n",
      "Enter Sample Variance : 0.27\n",
      "Enter Population Variance : 0.25\n",
      "Enter NULL Hypothesis(<= >=) : <=\n",
      "Enter Alpha : 0.05\n",
      "54.5722277589\n",
      "Accept NULL Hypothesis\n"
     ]
    }
   ],
   "source": [
    "print(\"1. Z-Test\")\n",
    "print(\"2. T-Test\")\n",
    "print(\"3. Chi Square-Test\")\n",
    "\n",
    "choice = int(input(\"\\nEnter Your choice : \"))\n",
    "\n",
    "if choice == 1:\n",
    "    \"\"\"\n",
    "    n = 32\n",
    "    mean = 12.9\n",
    "    s = 0.19\n",
    "    alpha = 0.01\n",
    "    x = 13 ... For Z-Test (Reject NULL)\n",
    "    \"\"\"\n",
    "    n = int(input(\"Enter random selection : \"))\n",
    "    mean = float(input(\"Enter Sample mean : \"))\n",
    "    s = float(input(\"Enter Standard Deviation : \"))\n",
    "    alpha = float(input(\"Enter Alpha : \"))\n",
    "    x = int(input(\"Enter Claim value : \"))\n",
    "    \n",
    "    p = perform_Z_Test(mean,x,s,n)\n",
    "    decide_hypothesis(p,alpha)\n",
    "    \n",
    "    \n",
    "if choice == 2:\n",
    "    \"\"\"\n",
    "    n = 14\n",
    "    mu = 20500\n",
    "    xbar = 19850\n",
    "    sd = 1084\n",
    "    alpha = 0.05\n",
    "    \"\"\"\n",
    "    n = int(input(\"Enter random selection : \"))\n",
    "    mu = float(input(\"Enter Population mean : \"))\n",
    "    xbar = float(input(\"Enter Sample mean : \"))\n",
    "    s = float(input(\"Enter Standard Deviation : \"))\n",
    "    alpha = float(input(\"Enter Alpha : \"))\n",
    "    \n",
    "    p = perform_T_Test(xbar,mu,s,n,alpha)\n",
    "    decide_hypothesis(p,alpha)\n",
    "    \n",
    "if choice == 3:\n",
    "    type_tail = False\n",
    "    \"\"\"\n",
    "    n = 41\n",
    "    s = 0.27 (sample variance)\n",
    "    sigma = 0.25 (population variance)\n",
    "    \"\"\"\n",
    "    n = int(input(\"Enter random sample : \"))\n",
    "    s = float(input(\"Enter Sample Variance : \"))\n",
    "    sigma = float(input(\"Enter Population Variance : \"))\n",
    "    null_hypo = input(\"Enter NULL Hypothesis(<= >=) : \")\n",
    "    alpha = float(input(\"Enter Alpha : \"))\n",
    "    \n",
    "    if '<=' in null_hypo:\n",
    "        type_tail = True\n",
    "    elif '>=' in null_hypo:\n",
    "        type_tail = False\n",
    "    \n",
    "    perform_Chi_Square_Test(n,s,sigma,alpha,type_tail)"
   ]
  },
  {
   "cell_type": "code",
   "execution_count": null,
   "metadata": {
    "collapsed": true,
    "deletable": true,
    "editable": true
   },
   "outputs": [],
   "source": []
  }
 ],
 "metadata": {
  "kernelspec": {
   "display_name": "Python 3",
   "language": "python",
   "name": "python3"
  },
  "language_info": {
   "codemirror_mode": {
    "name": "ipython",
    "version": 3
   },
   "file_extension": ".py",
   "mimetype": "text/x-python",
   "name": "python",
   "nbconvert_exporter": "python",
   "pygments_lexer": "ipython3",
   "version": "3.5.2"
  }
 },
 "nbformat": 4,
 "nbformat_minor": 2
}
