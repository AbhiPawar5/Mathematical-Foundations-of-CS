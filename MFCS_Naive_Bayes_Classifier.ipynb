{
 "cells": [
  {
   "cell_type": "code",
   "execution_count": 1,
   "metadata": {
    "collapsed": true,
    "deletable": true,
    "editable": true
   },
   "outputs": [],
   "source": [
    "import pandas as pd\n",
    "import numpy as np"
   ]
  },
  {
   "cell_type": "code",
   "execution_count": 2,
   "metadata": {
    "collapsed": false,
    "deletable": true,
    "editable": true
   },
   "outputs": [
    {
     "data": {
      "text/html": [
       "<div>\n",
       "<style>\n",
       "    .dataframe thead tr:only-child th {\n",
       "        text-align: right;\n",
       "    }\n",
       "\n",
       "    .dataframe thead th {\n",
       "        text-align: left;\n",
       "    }\n",
       "\n",
       "    .dataframe tbody tr th {\n",
       "        vertical-align: top;\n",
       "    }\n",
       "</style>\n",
       "<table border=\"1\" class=\"dataframe\">\n",
       "  <thead>\n",
       "    <tr style=\"text-align: right;\">\n",
       "      <th></th>\n",
       "      <th>age</th>\n",
       "      <th>income</th>\n",
       "      <th>student</th>\n",
       "      <th>credit_rating</th>\n",
       "      <th>buys_computer</th>\n",
       "    </tr>\n",
       "  </thead>\n",
       "  <tbody>\n",
       "    <tr>\n",
       "      <th>0</th>\n",
       "      <td>less_than_30</td>\n",
       "      <td>high</td>\n",
       "      <td>no</td>\n",
       "      <td>fair</td>\n",
       "      <td>no</td>\n",
       "    </tr>\n",
       "    <tr>\n",
       "      <th>1</th>\n",
       "      <td>less_than_30</td>\n",
       "      <td>high</td>\n",
       "      <td>no</td>\n",
       "      <td>excellent</td>\n",
       "      <td>no</td>\n",
       "    </tr>\n",
       "    <tr>\n",
       "      <th>2</th>\n",
       "      <td>31_to_40</td>\n",
       "      <td>high</td>\n",
       "      <td>no</td>\n",
       "      <td>fair</td>\n",
       "      <td>yes</td>\n",
       "    </tr>\n",
       "    <tr>\n",
       "      <th>3</th>\n",
       "      <td>greater_than_40</td>\n",
       "      <td>medium</td>\n",
       "      <td>no</td>\n",
       "      <td>fair</td>\n",
       "      <td>yes</td>\n",
       "    </tr>\n",
       "    <tr>\n",
       "      <th>4</th>\n",
       "      <td>greater_than_40</td>\n",
       "      <td>low</td>\n",
       "      <td>yes</td>\n",
       "      <td>fair</td>\n",
       "      <td>yes</td>\n",
       "    </tr>\n",
       "  </tbody>\n",
       "</table>\n",
       "</div>"
      ],
      "text/plain": [
       "               age  income student credit_rating buys_computer\n",
       "0     less_than_30    high      no          fair            no\n",
       "1     less_than_30    high      no     excellent            no\n",
       "2         31_to_40    high      no          fair           yes\n",
       "3  greater_than_40  medium      no          fair           yes\n",
       "4  greater_than_40     low     yes          fair           yes"
      ]
     },
     "execution_count": 2,
     "metadata": {},
     "output_type": "execute_result"
    }
   ],
   "source": [
    "df = pd.read_csv(\"Decision_Trees_Training.csv\")\n",
    "df.head()"
   ]
  },
  {
   "cell_type": "markdown",
   "metadata": {
    "deletable": true,
    "editable": true
   },
   "source": [
    "#### Calculate total number of Yes and No from Target Label 'buys_computer'"
   ]
  },
  {
   "cell_type": "code",
   "execution_count": 3,
   "metadata": {
    "collapsed": false,
    "deletable": true,
    "editable": true
   },
   "outputs": [
    {
     "name": "stdout",
     "output_type": "stream",
     "text": [
      "Total Number of No and Yes Labels :  [5 9]\n",
      "Unique Labels of buys_computer :  ['no' 'yes']\n"
     ]
    }
   ],
   "source": [
    "unique,t_count = np.unique(df['buys_computer'],return_counts=True)\n",
    "dataset_size = len(df)\n",
    "print(\"Total Number of No and Yes Labels : \",t_count)\n",
    "print(\"Unique Labels of buys_computer : \",unique)"
   ]
  },
  {
   "cell_type": "code",
   "execution_count": 4,
   "metadata": {
    "collapsed": false,
    "deletable": true,
    "editable": true
   },
   "outputs": [
    {
     "name": "stdout",
     "output_type": "stream",
     "text": [
      "Probab of Classes :  [0.35714285714285715, 0.6428571428571429]\n"
     ]
    }
   ],
   "source": [
    "probab_of_classes = []\n",
    "for x in range(len(unique)):\n",
    "    result = t_count[x]/dataset_size\n",
    "    probab_of_classes.append(result)\n",
    "    \n",
    "print(\"Probab of Classes : \",probab_of_classes)"
   ]
  },
  {
   "cell_type": "markdown",
   "metadata": {
    "deletable": true,
    "editable": true
   },
   "source": [
    "### Let us classify X when : Age<=30 , income = medium , student = yes and credit = fair"
   ]
  },
  {
   "cell_type": "code",
   "execution_count": 5,
   "metadata": {
    "collapsed": false,
    "deletable": true,
    "editable": true
   },
   "outputs": [],
   "source": [
    "def get_Yes_No_count(coloumn_name,value_in_coloumn):\n",
    "    temp_count = []\n",
    "    yes_count = 0\n",
    "    no_count = 0\n",
    "    \n",
    "    for j in range(dataset_size):\n",
    "        if df.iloc[j][coloumn_name] == str(value_in_coloumn):\n",
    "            if \"yes\" in df.iloc[j]['buys_computer']:\n",
    "                yes_count += 1\n",
    "                    \n",
    "            elif \"no\" in df.iloc[j]['buys_computer']:\n",
    "                no_count += 1\n",
    "                                    \n",
    "    temp_count.append(yes_count)\n",
    "    temp_count.append(no_count)\n",
    "    \n",
    "    return temp_count"
   ]
  },
  {
   "cell_type": "markdown",
   "metadata": {
    "deletable": true,
    "editable": true
   },
   "source": [
    "### Let us now get values of Yes and No for particular data to be classified."
   ]
  },
  {
   "cell_type": "code",
   "execution_count": 6,
   "metadata": {
    "collapsed": false,
    "deletable": true,
    "editable": true
   },
   "outputs": [
    {
     "name": "stdout",
     "output_type": "stream",
     "text": [
      "Enter coloumn name to find Yes and No Counts : age\n",
      "Enter value of coloumn name : less_than_30\n",
      "Yes No count :  [2, 3]\n"
     ]
    }
   ],
   "source": [
    "col_name = input(\"Enter coloumn name to find Yes and No Counts : \")\n",
    "value = input(\"Enter value of coloumn name : \")\n",
    "data_age = get_Yes_No_count(col_name,value)\n",
    "print(\"Yes No count : \",data_age)"
   ]
  },
  {
   "cell_type": "code",
   "execution_count": 7,
   "metadata": {
    "collapsed": false,
    "deletable": true,
    "editable": true
   },
   "outputs": [
    {
     "name": "stdout",
     "output_type": "stream",
     "text": [
      "Enter coloumn name to find Yes and No Counts : income\n",
      "Enter value of coloumn name : medium\n",
      "Yes No count :  [4, 2]\n"
     ]
    }
   ],
   "source": [
    "col_name = input(\"Enter coloumn name to find Yes and No Counts : \")\n",
    "value = input(\"Enter value of coloumn name : \")\n",
    "data_income = get_Yes_No_count(col_name,value)\n",
    "print(\"Yes No count : \",data_income)"
   ]
  },
  {
   "cell_type": "code",
   "execution_count": 8,
   "metadata": {
    "collapsed": false,
    "deletable": true,
    "editable": true
   },
   "outputs": [
    {
     "name": "stdout",
     "output_type": "stream",
     "text": [
      "Enter coloumn name to find Yes and No Counts : student\n",
      "Enter value of coloumn name : yes\n",
      "Yes No count :  [6, 1]\n"
     ]
    }
   ],
   "source": [
    "col_name = input(\"Enter coloumn name to find Yes and No Counts : \")\n",
    "value = input(\"Enter value of coloumn name : \")\n",
    "data_student = get_Yes_No_count(col_name,value)\n",
    "print(\"Yes No count : \",data_student)"
   ]
  },
  {
   "cell_type": "code",
   "execution_count": 9,
   "metadata": {
    "collapsed": false,
    "deletable": true,
    "editable": true
   },
   "outputs": [
    {
     "name": "stdout",
     "output_type": "stream",
     "text": [
      "Enter coloumn name to find Yes and No Counts : credit_rating\n",
      "Enter value of coloumn name : fair\n",
      "Yes No count :  [6, 2]\n"
     ]
    }
   ],
   "source": [
    "col_name = input(\"Enter coloumn name to find Yes and No Counts : \")\n",
    "value = input(\"Enter value of coloumn name : \")\n",
    "data_credit = get_Yes_No_count(col_name,value)\n",
    "print(\"Yes No count : \",data_credit)"
   ]
  },
  {
   "cell_type": "markdown",
   "metadata": {
    "deletable": true,
    "editable": true
   },
   "source": [
    "### Let us apply our formula for class = Yes,given X for all attributes"
   ]
  },
  {
   "cell_type": "code",
   "execution_count": 10,
   "metadata": {
    "collapsed": false,
    "deletable": true,
    "editable": true
   },
   "outputs": [
    {
     "data": {
      "text/plain": [
       "0.028218694885361547"
      ]
     },
     "execution_count": 10,
     "metadata": {},
     "output_type": "execute_result"
    }
   ],
   "source": [
    "probab_yes = 0\n",
    "probab_yes = (data_age[0] / t_count[1]) * (data_income[0] / t_count[1]) * (data_student[0] / t_count[1]) * (data_credit[0] / t_count[1])\n",
    "probab_yes *= t_count[1]/dataset_size\n",
    "probab_yes"
   ]
  },
  {
   "cell_type": "code",
   "execution_count": 11,
   "metadata": {
    "collapsed": false,
    "deletable": true,
    "editable": true
   },
   "outputs": [
    {
     "data": {
      "text/plain": [
       "0.0068571428571428577"
      ]
     },
     "execution_count": 11,
     "metadata": {},
     "output_type": "execute_result"
    }
   ],
   "source": [
    "probab_no = 0\n",
    "probab_no = (data_age[1]/t_count[0]) * (data_income[1]/t_count[0]) * (data_student[1]/t_count[0]) * (data_credit[1]/t_count[0])\n",
    "probab_no *= t_count[0]/dataset_size\n",
    "probab_no"
   ]
  },
  {
   "cell_type": "code",
   "execution_count": 12,
   "metadata": {
    "collapsed": false
   },
   "outputs": [
    {
     "name": "stdout",
     "output_type": "stream",
     "text": [
      "X belongs to Class YES\n"
     ]
    }
   ],
   "source": [
    "if probab_yes > probab_no:\n",
    "    print(\"X belongs to Class YES\")\n",
    "else:\n",
    "    print(\"X belongsto Class NO\")"
   ]
  },
  {
   "cell_type": "code",
   "execution_count": null,
   "metadata": {
    "collapsed": true
   },
   "outputs": [],
   "source": []
  }
 ],
 "metadata": {
  "kernelspec": {
   "display_name": "Python 3",
   "language": "python",
   "name": "python3"
  },
  "language_info": {
   "codemirror_mode": {
    "name": "ipython",
    "version": 3
   },
   "file_extension": ".py",
   "mimetype": "text/x-python",
   "name": "python",
   "nbconvert_exporter": "python",
   "pygments_lexer": "ipython3",
   "version": "3.5.2"
  }
 },
 "nbformat": 4,
 "nbformat_minor": 2
}
