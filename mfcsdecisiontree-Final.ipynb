{
 "cells": [
  {
   "cell_type": "code",
   "execution_count": 1,
   "metadata": {
    "collapsed": true,
    "deletable": true,
    "editable": true
   },
   "outputs": [],
   "source": [
    "import pandas as pd\n",
    "import math\n",
    "import numpy as np"
   ]
  },
  {
   "cell_type": "code",
   "execution_count": 2,
   "metadata": {
    "collapsed": false,
    "deletable": true,
    "editable": true
   },
   "outputs": [],
   "source": [
    "df = pd.read_csv(\"Decision_Trees_Training.csv\")"
   ]
  },
  {
   "cell_type": "code",
   "execution_count": 3,
   "metadata": {
    "collapsed": false,
    "deletable": true,
    "editable": true
   },
   "outputs": [
    {
     "data": {
      "text/html": [
       "<div>\n",
       "<style>\n",
       "    .dataframe thead tr:only-child th {\n",
       "        text-align: right;\n",
       "    }\n",
       "\n",
       "    .dataframe thead th {\n",
       "        text-align: left;\n",
       "    }\n",
       "\n",
       "    .dataframe tbody tr th {\n",
       "        vertical-align: top;\n",
       "    }\n",
       "</style>\n",
       "<table border=\"1\" class=\"dataframe\">\n",
       "  <thead>\n",
       "    <tr style=\"text-align: right;\">\n",
       "      <th></th>\n",
       "      <th>age</th>\n",
       "      <th>income</th>\n",
       "      <th>student</th>\n",
       "      <th>credit_rating</th>\n",
       "      <th>buys_computer</th>\n",
       "    </tr>\n",
       "  </thead>\n",
       "  <tbody>\n",
       "    <tr>\n",
       "      <th>0</th>\n",
       "      <td>less_than_30</td>\n",
       "      <td>high</td>\n",
       "      <td>no</td>\n",
       "      <td>fair</td>\n",
       "      <td>no</td>\n",
       "    </tr>\n",
       "    <tr>\n",
       "      <th>1</th>\n",
       "      <td>less_than_30</td>\n",
       "      <td>high</td>\n",
       "      <td>no</td>\n",
       "      <td>excellent</td>\n",
       "      <td>no</td>\n",
       "    </tr>\n",
       "    <tr>\n",
       "      <th>2</th>\n",
       "      <td>31_to_40</td>\n",
       "      <td>high</td>\n",
       "      <td>no</td>\n",
       "      <td>fair</td>\n",
       "      <td>yes</td>\n",
       "    </tr>\n",
       "    <tr>\n",
       "      <th>3</th>\n",
       "      <td>greater_than_40</td>\n",
       "      <td>medium</td>\n",
       "      <td>no</td>\n",
       "      <td>fair</td>\n",
       "      <td>yes</td>\n",
       "    </tr>\n",
       "    <tr>\n",
       "      <th>4</th>\n",
       "      <td>greater_than_40</td>\n",
       "      <td>low</td>\n",
       "      <td>yes</td>\n",
       "      <td>fair</td>\n",
       "      <td>yes</td>\n",
       "    </tr>\n",
       "  </tbody>\n",
       "</table>\n",
       "</div>"
      ],
      "text/plain": [
       "               age  income student credit_rating buys_computer\n",
       "0     less_than_30    high      no          fair            no\n",
       "1     less_than_30    high      no     excellent            no\n",
       "2         31_to_40    high      no          fair           yes\n",
       "3  greater_than_40  medium      no          fair           yes\n",
       "4  greater_than_40     low     yes          fair           yes"
      ]
     },
     "execution_count": 3,
     "metadata": {},
     "output_type": "execute_result"
    }
   ],
   "source": [
    "df.head()"
   ]
  },
  {
   "cell_type": "markdown",
   "metadata": {
    "deletable": true,
    "editable": true
   },
   "source": [
    "#### Calculate number of Target Classes and their count"
   ]
  },
  {
   "cell_type": "code",
   "execution_count": 39,
   "metadata": {
    "collapsed": false,
    "deletable": true,
    "editable": true
   },
   "outputs": [
    {
     "name": "stdout",
     "output_type": "stream",
     "text": [
      "Enter Name of target coloumn : buys_computer\n",
      "Unique Labels in Target Class :  ['no' 'yes']\n",
      "NO and YES count :  [5, 9]\n"
     ]
    }
   ],
   "source": [
    "target_coloumn = input(\"Enter Name of target coloumn : \")\n",
    "unique , count = np.unique(df[target_coloumn],return_counts=True)\n",
    "dataset_size = len(df)\n",
    "print(\"Unique Labels in Target Class : \",unique)\n",
    "print(\"NO and YES count : \",list(count))"
   ]
  },
  {
   "cell_type": "markdown",
   "metadata": {
    "deletable": true,
    "editable": true
   },
   "source": [
    "#### Let's get Entropy of buys_computer coloumn"
   ]
  },
  {
   "cell_type": "code",
   "execution_count": 40,
   "metadata": {
    "collapsed": false,
    "deletable": true,
    "editable": true
   },
   "outputs": [
    {
     "name": "stdout",
     "output_type": "stream",
     "text": [
      "Entropy of dataset :  0.940285958671\n"
     ]
    }
   ],
   "source": [
    "temp = 0\n",
    "for x in range(len(unique)):\n",
    "    temp += -((count[x]/dataset_size) * math.log2(count[x]/dataset_size))\n",
    "    \n",
    "print(\"Entropy of dataset : \",temp)"
   ]
  },
  {
   "cell_type": "code",
   "execution_count": 41,
   "metadata": {
    "collapsed": false,
    "deletable": true,
    "editable": true
   },
   "outputs": [],
   "source": [
    "all_coloumns = df.columns.values.tolist()\n",
    "all_coloumns = all_coloumns[:-1]"
   ]
  },
  {
   "cell_type": "markdown",
   "metadata": {
    "deletable": true,
    "editable": true
   },
   "source": [
    "#### This function returns Yes and No count in coloumn supplied as parameter."
   ]
  },
  {
   "cell_type": "code",
   "execution_count": 54,
   "metadata": {
    "collapsed": true,
    "deletable": true,
    "editable": true
   },
   "outputs": [],
   "source": [
    "def get_unique_label_and_count(coloumn_name):\n",
    "    unique , count = np.unique(df[coloumn_name],return_counts=True)\n",
    "    print(\"Unique Labels in {0} Class : {1}\".format(coloumn_name,unique))\n",
    "    print(\"YES and NO Count : \",list(count))\n",
    "    return unique , count"
   ]
  },
  {
   "cell_type": "code",
   "execution_count": 55,
   "metadata": {
    "collapsed": false,
    "deletable": true,
    "editable": true
   },
   "outputs": [],
   "source": [
    "def get_Yes_No_count(unique_list,coloumn_name):\n",
    "    temp_count = []\n",
    "    for i in range(len(unique_list)):\n",
    "        yes_count = 0\n",
    "        no_count = 0\n",
    "        for j in range(dataset_size):\n",
    "            if \"yes\" in df.iloc[j]['buys_computer']:\n",
    "                if df.iloc[j][coloumn_name] is str(unique_list[i]):\n",
    "                    yes_count += 1\n",
    "                    \n",
    "            elif \"no\" in df.iloc[j]['buys_computer']:\n",
    "                if df.iloc[j][coloumn_name] is str(unique_list[i]):\n",
    "                    no_count += 1\n",
    "                                    \n",
    "        temp_count.append(yes_count)\n",
    "        temp_count.append(no_count)\n",
    "    \n",
    "    return temp_count"
   ]
  },
  {
   "cell_type": "code",
   "execution_count": 56,
   "metadata": {
    "collapsed": false,
    "deletable": true,
    "editable": true
   },
   "outputs": [],
   "source": [
    "def calculate_individual_info_coloumn(coloumn_name,result):\n",
    "    info = []\n",
    "    for y in range(len(result)-1):\n",
    "        try:\n",
    "            total_yes_no = result[y] + result[y+1]\n",
    "            info.append((result[y]/total_yes_no) * math.log2((result[y]/total_yes_no)) + (result[y+1]/total_yes_no) * math.log2((result[y+1]/total_yes_no)))\n",
    "\n",
    "        except ValueError:\n",
    "            info.append(0)\n",
    "            continue\n",
    "                    \n",
    "    info = info[0::2]\n",
    "    info = list(map(abs,info))\n",
    "    print(\"Individual Info of {0} is {1} : \".format(coloumn_name,info))\n",
    "    return info"
   ]
  },
  {
   "cell_type": "code",
   "execution_count": 61,
   "metadata": {
    "collapsed": true,
    "deletable": true,
    "editable": true
   },
   "outputs": [],
   "source": [
    "def calculate_info_coloumn(col_name,count,ind_col_info):\n",
    "    temp_info = 0\n",
    "    print(ind_col_info)\n",
    "    for x in range(len(count)):\n",
    "        temp_info += (count[x]/dataset_size) * ind_col_info[x]\n",
    "    \n",
    "    print(\"Info of {0} is : {1}\".format(col_name,temp_info))\n",
    "    print(\"\\n\")\n",
    "    return temp_info"
   ]
  },
  {
   "cell_type": "code",
   "execution_count": 62,
   "metadata": {
    "collapsed": false,
    "deletable": true,
    "editable": true
   },
   "outputs": [
    {
     "name": "stdout",
     "output_type": "stream",
     "text": [
      "Unique Labels in age Class : ['31_to_40' 'greater_than_40' 'less_than_30']\n",
      "YES and NO Count :  [4, 5, 5]\n",
      "Individual Info of age is [0, 0.9709505944546686, 0.9709505944546686] : \n",
      "[0, 0.9709505944546686, 0.9709505944546686]\n",
      "Info of age is : 0.6935361388961918\n",
      "\n",
      "\n",
      "Unique Labels in income Class : ['high' 'low' 'medium']\n",
      "YES and NO Count :  [4, 4, 6]\n",
      "Individual Info of income is [1.0, 0.8112781244591328, 0.9182958340544896] : \n",
      "[1.0, 0.8112781244591328, 0.9182958340544896]\n",
      "Info of income is : 0.9110633930116763\n",
      "\n",
      "\n",
      "Unique Labels in student Class : ['no' 'yes']\n",
      "YES and NO Count :  [7, 7]\n",
      "Individual Info of student is [0.9852281360342516, 0.5916727785823275] : \n",
      "[0.9852281360342516, 0.5916727785823275]\n",
      "Info of student is : 0.7884504573082896\n",
      "\n",
      "\n",
      "Unique Labels in credit_rating Class : ['excellent' 'fair']\n",
      "YES and NO Count :  [6, 8]\n",
      "Individual Info of credit_rating is [1.0, 0.8112781244591328] : \n",
      "[1.0, 0.8112781244591328]\n",
      "Info of credit_rating is : 0.8921589282623617\n",
      "\n",
      "\n"
     ]
    }
   ],
   "source": [
    "final_info_list = []\n",
    "for i in range(len(all_coloumns)):\n",
    "    global final_info_list\n",
    "    count = get_unique_label_and_count(all_coloumns[i])\n",
    "    \n",
    "    result = get_Yes_No_count(count[0],all_coloumns[i])\n",
    "    \n",
    "    ind_col = calculate_individual_info_coloumn(all_coloumns[i],result)\n",
    "    \n",
    "    info = calculate_info_coloumn(all_coloumns[i],count[1],ind_col)\n",
    "    \n",
    "    final_info_list.append(info)"
   ]
  },
  {
   "cell_type": "code",
   "execution_count": 63,
   "metadata": {
    "collapsed": false,
    "deletable": true,
    "editable": true
   },
   "outputs": [
    {
     "name": "stdout",
     "output_type": "stream",
     "text": [
      "Max Gain :  0.246749819774\n"
     ]
    }
   ],
   "source": [
    "final_gain_list = []\n",
    "for x in range(len(final_info_list)):\n",
    "    final_gain_list.append(temp - final_info_list[x])\n",
    "\n",
    "print(\"Max Gain : \",max(final_gain_list))"
   ]
  },
  {
   "cell_type": "markdown",
   "metadata": {
    "deletable": true,
    "editable": true
   },
   "source": [
    "## Conclusion : 0.2467 is maximum gain obtained.\n",
    "### So, age attribute serves as ROOT of our decision tree."
   ]
  },
  {
   "cell_type": "code",
   "execution_count": null,
   "metadata": {
    "collapsed": true,
    "deletable": true,
    "editable": true
   },
   "outputs": [],
   "source": []
  }
 ],
 "metadata": {
  "kernelspec": {
   "display_name": "Python 3",
   "language": "python",
   "name": "python3"
  },
  "language_info": {
   "codemirror_mode": {
    "name": "ipython",
    "version": 3
   },
   "file_extension": ".py",
   "mimetype": "text/x-python",
   "name": "python",
   "nbconvert_exporter": "python",
   "pygments_lexer": "ipython3",
   "version": "3.5.2"
  }
 },
 "nbformat": 4,
 "nbformat_minor": 2
}
